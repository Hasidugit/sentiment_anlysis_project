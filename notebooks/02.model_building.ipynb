{
 "cells": [
  {
   "cell_type": "code",
   "execution_count": 3,
   "id": "89f58f3d-42c5-404c-a8b7-c79231554176",
   "metadata": {},
   "outputs": [
    {
     "ename": "ModuleNotFoundError",
     "evalue": "No module named 'numy'",
     "output_type": "error",
     "traceback": [
      "\u001b[1;31m---------------------------------------------------------------------------\u001b[0m",
      "\u001b[1;31mModuleNotFoundError\u001b[0m                       Traceback (most recent call last)",
      "Cell \u001b[1;32mIn[3], line 1\u001b[0m\n\u001b[1;32m----> 1\u001b[0m \u001b[38;5;28;01mimport\u001b[39;00m \u001b[38;5;21;01mnumy\u001b[39;00m \u001b[38;5;28;01mas\u001b[39;00m \u001b[38;5;21;01mnp\u001b[39;00m\n\u001b[0;32m      2\u001b[0m \u001b[38;5;28;01mimport\u001b[39;00m \u001b[38;5;21;01mpandas\u001b[39;00m \u001b[38;5;28;01mas\u001b[39;00m \u001b[38;5;21;01mpd\u001b[39;00m\n\u001b[0;32m      3\u001b[0m \u001b[38;5;28;01mimport\u001b[39;00m \u001b[38;5;21;01mmatplotlib\u001b[39;00m\u001b[38;5;21;01m.\u001b[39;00m\u001b[38;5;21;01mpyplot\u001b[39;00m \u001b[38;5;28;01mas\u001b[39;00m \u001b[38;5;21;01mplt\u001b[39;00m\n",
      "\u001b[1;31mModuleNotFoundError\u001b[0m: No module named 'numy'"
     ]
    }
   ],
   "source": [
    "import numy as np\n",
    "import pandas as pd\n",
    "import matplotlib.pyplot as plt"
   ]
  },
  {
   "cell_type": "code",
   "execution_count": 1,
   "id": "197c1eba-25a3-4bf0-9680-712faccc7cb5",
   "metadata": {},
   "outputs": [
    {
     "name": "stdout",
     "output_type": "stream",
     "text": [
      "Requirement already satisfied: numpy in c:\\users\\hasidu\\appdata\\local\\programs\\python\\python313\\lib\\site-packages (2.1.3)\n",
      "Note: you may need to restart the kernel to use updated packages.\n"
     ]
    }
   ],
   "source": [
    "pip install numpy\n"
   ]
  },
  {
   "cell_type": "code",
   "execution_count": 2,
   "id": "25230216-8d0d-4949-a2bf-ff1430f56f7b",
   "metadata": {},
   "outputs": [
    {
     "name": "stdout",
     "output_type": "stream",
     "text": [
      "Requirement already satisfied: pandas in c:\\users\\hasidu\\appdata\\local\\programs\\python\\python313\\lib\\site-packages (2.2.3)\n",
      "Requirement already satisfied: numpy>=1.26.0 in c:\\users\\hasidu\\appdata\\local\\programs\\python\\python313\\lib\\site-packages (from pandas) (2.1.3)\n",
      "Requirement already satisfied: python-dateutil>=2.8.2 in c:\\users\\hasidu\\appdata\\local\\programs\\python\\python313\\lib\\site-packages (from pandas) (2.9.0.post0)\n",
      "Requirement already satisfied: pytz>=2020.1 in c:\\users\\hasidu\\appdata\\local\\programs\\python\\python313\\lib\\site-packages (from pandas) (2024.2)\n",
      "Requirement already satisfied: tzdata>=2022.7 in c:\\users\\hasidu\\appdata\\local\\programs\\python\\python313\\lib\\site-packages (from pandas) (2024.2)\n",
      "Requirement already satisfied: six>=1.5 in c:\\users\\hasidu\\appdata\\local\\programs\\python\\python313\\lib\\site-packages (from python-dateutil>=2.8.2->pandas) (1.16.0)\n",
      "Note: you may need to restart the kernel to use updated packages.\n"
     ]
    }
   ],
   "source": [
    "pip install pandas\n"
   ]
  },
  {
   "cell_type": "code",
   "execution_count": 3,
   "id": "ef6ca9f8-0cfc-45b6-895f-11f7fdb4d37e",
   "metadata": {},
   "outputs": [
    {
     "name": "stdout",
     "output_type": "stream",
     "text": [
      "Requirement already satisfied: matplotlib in c:\\users\\hasidu\\appdata\\local\\programs\\python\\python313\\lib\\site-packages (3.9.2)\n",
      "Requirement already satisfied: contourpy>=1.0.1 in c:\\users\\hasidu\\appdata\\local\\programs\\python\\python313\\lib\\site-packages (from matplotlib) (1.3.1)\n",
      "Requirement already satisfied: cycler>=0.10 in c:\\users\\hasidu\\appdata\\local\\programs\\python\\python313\\lib\\site-packages (from matplotlib) (0.12.1)\n",
      "Requirement already satisfied: fonttools>=4.22.0 in c:\\users\\hasidu\\appdata\\local\\programs\\python\\python313\\lib\\site-packages (from matplotlib) (4.55.0)\n",
      "Requirement already satisfied: kiwisolver>=1.3.1 in c:\\users\\hasidu\\appdata\\local\\programs\\python\\python313\\lib\\site-packages (from matplotlib) (1.4.7)\n",
      "Requirement already satisfied: numpy>=1.23 in c:\\users\\hasidu\\appdata\\local\\programs\\python\\python313\\lib\\site-packages (from matplotlib) (2.1.3)\n",
      "Requirement already satisfied: packaging>=20.0 in c:\\users\\hasidu\\appdata\\local\\programs\\python\\python313\\lib\\site-packages (from matplotlib) (24.1)\n",
      "Requirement already satisfied: pillow>=8 in c:\\users\\hasidu\\appdata\\local\\programs\\python\\python313\\lib\\site-packages (from matplotlib) (11.0.0)\n",
      "Requirement already satisfied: pyparsing>=2.3.1 in c:\\users\\hasidu\\appdata\\local\\programs\\python\\python313\\lib\\site-packages (from matplotlib) (3.2.0)\n",
      "Requirement already satisfied: python-dateutil>=2.7 in c:\\users\\hasidu\\appdata\\local\\programs\\python\\python313\\lib\\site-packages (from matplotlib) (2.9.0.post0)\n",
      "Requirement already satisfied: six>=1.5 in c:\\users\\hasidu\\appdata\\local\\programs\\python\\python313\\lib\\site-packages (from python-dateutil>=2.7->matplotlib) (1.16.0)\n",
      "Note: you may need to restart the kernel to use updated packages.\n"
     ]
    }
   ],
   "source": [
    "pip install matplotlib\n"
   ]
  },
  {
   "cell_type": "code",
   "execution_count": 4,
   "id": "5382efe6-ce77-4b3f-a71b-c8a74a5bb0ba",
   "metadata": {},
   "outputs": [
    {
     "ename": "ModuleNotFoundError",
     "evalue": "No module named 'numy'",
     "output_type": "error",
     "traceback": [
      "\u001b[1;31m---------------------------------------------------------------------------\u001b[0m",
      "\u001b[1;31mModuleNotFoundError\u001b[0m                       Traceback (most recent call last)",
      "Cell \u001b[1;32mIn[4], line 1\u001b[0m\n\u001b[1;32m----> 1\u001b[0m \u001b[38;5;28;01mimport\u001b[39;00m \u001b[38;5;21;01mnumy\u001b[39;00m \u001b[38;5;28;01mas\u001b[39;00m \u001b[38;5;21;01mnp\u001b[39;00m\n\u001b[0;32m      2\u001b[0m \u001b[38;5;28;01mimport\u001b[39;00m \u001b[38;5;21;01mpandas\u001b[39;00m \u001b[38;5;28;01mas\u001b[39;00m \u001b[38;5;21;01mpd\u001b[39;00m\n\u001b[0;32m      3\u001b[0m \u001b[38;5;28;01mimport\u001b[39;00m \u001b[38;5;21;01mmatplotlib\u001b[39;00m\u001b[38;5;21;01m.\u001b[39;00m\u001b[38;5;21;01mpyplot\u001b[39;00m \u001b[38;5;28;01mas\u001b[39;00m \u001b[38;5;21;01mplt\u001b[39;00m\n",
      "\u001b[1;31mModuleNotFoundError\u001b[0m: No module named 'numy'"
     ]
    }
   ],
   "source": [
    "import numy as np\n",
    "import pandas as pd\n",
    "import matplotlib.pyplot as plt"
   ]
  },
  {
   "cell_type": "code",
   "execution_count": 5,
   "id": "acd02c45-e6be-46eb-a0b2-97648e585633",
   "metadata": {},
   "outputs": [],
   "source": [
    "import pandas as pd"
   ]
  },
  {
   "cell_type": "code",
   "execution_count": 6,
   "id": "c53c991f-ebe8-40db-b0ae-1915bb6bb5b3",
   "metadata": {},
   "outputs": [],
   "source": [
    "\n",
    "import matplotlib.pyplot as plt"
   ]
  },
  {
   "cell_type": "code",
   "execution_count": 7,
   "id": "a6d161cc-5cdc-4f65-abd0-2949d335156a",
   "metadata": {},
   "outputs": [],
   "source": [
    "import numpy as np\n"
   ]
  },
  {
   "cell_type": "code",
   "execution_count": 8,
   "id": "e5fe3bdf-702d-42d3-b966-da10ae47db6c",
   "metadata": {},
   "outputs": [],
   "source": [
    "data=pd.read_csv('../artifacts/sentiment_analysis.csv')"
   ]
  },
  {
   "cell_type": "markdown",
   "id": "20311fee-bbc4-4881-ad83-218633de2d05",
   "metadata": {},
   "source": [
    "data.head()"
   ]
  },
  {
   "cell_type": "code",
   "execution_count": null,
   "id": "e1d819dc-ee8c-44a9-9365-786470942b0b",
   "metadata": {},
   "outputs": [],
   "source": []
  },
  {
   "cell_type": "code",
   "execution_count": 9,
   "id": "2f01f66b-7417-44fe-9610-3652442565ef",
   "metadata": {},
   "outputs": [],
   "source": [
    "\n",
    "import pandas as pd\n"
   ]
  },
  {
   "cell_type": "code",
   "execution_count": 10,
   "id": "e3d60e95-034c-40eb-b288-0e751722d544",
   "metadata": {},
   "outputs": [
    {
     "data": {
      "text/plain": [
       "<bound method NDFrame.head of         id  label                                              tweet\n",
       "0        1      0  #fingerprint #Pregnancy Test https://goo.gl/h1...\n",
       "1        2      0  Finally a transparant silicon case ^^ Thanks t...\n",
       "2        3      0  We love this! Would you go? #talk #makememorie...\n",
       "3        4      0  I'm wired I know I'm George I was made that wa...\n",
       "4        5      1  What amazing service! Apple won't even talk to...\n",
       "...    ...    ...                                                ...\n",
       "7915  7916      0  Live out loud #lol #liveoutloud #selfie #smile...\n",
       "7916  7917      0  We would like to wish you an amazing day! Make...\n",
       "7917  7918      0  Helping my lovely 90 year old neighbor with he...\n",
       "7918  7919      0  Finally got my #smart #pocket #wifi stay conne...\n",
       "7919  7920      0  Apple Barcelona!!! #Apple #Store #BCN #Barcelo...\n",
       "\n",
       "[7920 rows x 3 columns]>"
      ]
     },
     "execution_count": 10,
     "metadata": {},
     "output_type": "execute_result"
    }
   ],
   "source": [
    "data.head"
   ]
  },
  {
   "cell_type": "code",
   "execution_count": 11,
   "id": "a465fbec-86a6-4881-b164-d682279fecc0",
   "metadata": {},
   "outputs": [
    {
     "data": {
      "text/plain": [
       "0       False\n",
       "1       False\n",
       "2       False\n",
       "3       False\n",
       "4       False\n",
       "        ...  \n",
       "7915    False\n",
       "7916    False\n",
       "7917    False\n",
       "7918    False\n",
       "7919    False\n",
       "Length: 7920, dtype: bool"
      ]
     },
     "execution_count": 11,
     "metadata": {},
     "output_type": "execute_result"
    }
   ],
   "source": [
    "data.duplicated()"
   ]
  },
  {
   "cell_type": "code",
   "execution_count": 12,
   "id": "90980c93-3256-4065-ac84-864dc0a06a6e",
   "metadata": {},
   "outputs": [
    {
     "data": {
      "text/plain": [
       "np.int64(0)"
      ]
     },
     "execution_count": 12,
     "metadata": {},
     "output_type": "execute_result"
    }
   ],
   "source": [
    "data.duplicated().sum()"
   ]
  },
  {
   "cell_type": "code",
   "execution_count": 13,
   "id": "38899173-8b27-4120-9209-52e5d808f75e",
   "metadata": {},
   "outputs": [
    {
     "data": {
      "text/html": [
       "<div>\n",
       "<style scoped>\n",
       "    .dataframe tbody tr th:only-of-type {\n",
       "        vertical-align: middle;\n",
       "    }\n",
       "\n",
       "    .dataframe tbody tr th {\n",
       "        vertical-align: top;\n",
       "    }\n",
       "\n",
       "    .dataframe thead th {\n",
       "        text-align: right;\n",
       "    }\n",
       "</style>\n",
       "<table border=\"1\" class=\"dataframe\">\n",
       "  <thead>\n",
       "    <tr style=\"text-align: right;\">\n",
       "      <th></th>\n",
       "      <th>id</th>\n",
       "      <th>label</th>\n",
       "      <th>tweet</th>\n",
       "    </tr>\n",
       "  </thead>\n",
       "  <tbody>\n",
       "    <tr>\n",
       "      <th>0</th>\n",
       "      <td>False</td>\n",
       "      <td>False</td>\n",
       "      <td>False</td>\n",
       "    </tr>\n",
       "    <tr>\n",
       "      <th>1</th>\n",
       "      <td>False</td>\n",
       "      <td>False</td>\n",
       "      <td>False</td>\n",
       "    </tr>\n",
       "    <tr>\n",
       "      <th>2</th>\n",
       "      <td>False</td>\n",
       "      <td>False</td>\n",
       "      <td>False</td>\n",
       "    </tr>\n",
       "    <tr>\n",
       "      <th>3</th>\n",
       "      <td>False</td>\n",
       "      <td>False</td>\n",
       "      <td>False</td>\n",
       "    </tr>\n",
       "    <tr>\n",
       "      <th>4</th>\n",
       "      <td>False</td>\n",
       "      <td>False</td>\n",
       "      <td>False</td>\n",
       "    </tr>\n",
       "    <tr>\n",
       "      <th>...</th>\n",
       "      <td>...</td>\n",
       "      <td>...</td>\n",
       "      <td>...</td>\n",
       "    </tr>\n",
       "    <tr>\n",
       "      <th>7915</th>\n",
       "      <td>False</td>\n",
       "      <td>False</td>\n",
       "      <td>False</td>\n",
       "    </tr>\n",
       "    <tr>\n",
       "      <th>7916</th>\n",
       "      <td>False</td>\n",
       "      <td>False</td>\n",
       "      <td>False</td>\n",
       "    </tr>\n",
       "    <tr>\n",
       "      <th>7917</th>\n",
       "      <td>False</td>\n",
       "      <td>False</td>\n",
       "      <td>False</td>\n",
       "    </tr>\n",
       "    <tr>\n",
       "      <th>7918</th>\n",
       "      <td>False</td>\n",
       "      <td>False</td>\n",
       "      <td>False</td>\n",
       "    </tr>\n",
       "    <tr>\n",
       "      <th>7919</th>\n",
       "      <td>False</td>\n",
       "      <td>False</td>\n",
       "      <td>False</td>\n",
       "    </tr>\n",
       "  </tbody>\n",
       "</table>\n",
       "<p>7920 rows × 3 columns</p>\n",
       "</div>"
      ],
      "text/plain": [
       "         id  label  tweet\n",
       "0     False  False  False\n",
       "1     False  False  False\n",
       "2     False  False  False\n",
       "3     False  False  False\n",
       "4     False  False  False\n",
       "...     ...    ...    ...\n",
       "7915  False  False  False\n",
       "7916  False  False  False\n",
       "7917  False  False  False\n",
       "7918  False  False  False\n",
       "7919  False  False  False\n",
       "\n",
       "[7920 rows x 3 columns]"
      ]
     },
     "execution_count": 13,
     "metadata": {},
     "output_type": "execute_result"
    }
   ],
   "source": [
    "data.isnull()"
   ]
  },
  {
   "cell_type": "code",
   "execution_count": 14,
   "id": "1d83322f-a983-4bae-b503-63c62852211a",
   "metadata": {},
   "outputs": [
    {
     "data": {
      "text/plain": [
       "np.int64(0)"
      ]
     },
     "execution_count": 14,
     "metadata": {},
     "output_type": "execute_result"
    }
   ],
   "source": [
    "data.duplicated().sum()"
   ]
  },
  {
   "cell_type": "markdown",
   "id": "dcea7ffc-f788-41b9-b4fb-0a57354f8d44",
   "metadata": {},
   "source": [
    "### text preprocessing"
   ]
  },
  {
   "cell_type": "code",
   "execution_count": 15,
   "id": "cbe8cbb7-23df-4483-99e7-84a8794206e1",
   "metadata": {},
   "outputs": [],
   "source": [
    "import re\n",
    "import string"
   ]
  },
  {
   "cell_type": "code",
   "execution_count": 16,
   "id": "9ce1b65a-a325-45c0-b482-4b62bb482351",
   "metadata": {},
   "outputs": [],
   "source": [
    "data ['tweet']=data['tweet'].apply(lambda x: \" \".join(x.lower() for x in x.split()))"
   ]
  },
  {
   "cell_type": "code",
   "execution_count": 17,
   "id": "f1c3982d-8b0f-4f78-98da-7f7e71151c2e",
   "metadata": {},
   "outputs": [
    {
     "data": {
      "text/plain": [
       "0    #fingerprint #pregnancy test https://goo.gl/h1...\n",
       "1    finally a transparant silicon case ^^ thanks t...\n",
       "2    we love this! would you go? #talk #makememorie...\n",
       "3    i'm wired i know i'm george i was made that wa...\n",
       "4    what amazing service! apple won't even talk to...\n",
       "Name: tweet, dtype: object"
      ]
     },
     "execution_count": 17,
     "metadata": {},
     "output_type": "execute_result"
    }
   ],
   "source": [
    "data['tweet'].head(5)"
   ]
  },
  {
   "cell_type": "code",
   "execution_count": 18,
   "id": "5b73b148-8359-4e86-a764-7a8ea7a325ef",
   "metadata": {},
   "outputs": [
    {
     "data": {
      "text/plain": [
       "0    #fingerprint #pregnancy test https://goo.gl/h1...\n",
       "1    finally a transparant silicon case ^^ thanks t...\n",
       "2    we love this! would you go? #talk #makememorie...\n",
       "3    i'm wired i know i'm george i was made that wa...\n",
       "4    what amazing service! apple won't even talk to...\n",
       "Name: tweet, dtype: object"
      ]
     },
     "execution_count": 18,
     "metadata": {},
     "output_type": "execute_result"
    }
   ],
   "source": [
    "data['tweet'].head(5)"
   ]
  },
  {
   "cell_type": "code",
   "execution_count": 19,
   "id": "411370d8-329e-43e3-bf06-02d3e18fc1d1",
   "metadata": {},
   "outputs": [],
   "source": [
    "data['tweet'] = data['tweet'].apply(\n",
    "    lambda x: re.sub(r'http\\S+|www\\S+|https\\S+', '', x, flags=re.MULTILINE).strip()\n",
    ")"
   ]
  },
  {
   "cell_type": "code",
   "execution_count": 20,
   "id": "ac1e9843-2413-465c-80d7-5a34327fe235",
   "metadata": {},
   "outputs": [
    {
     "data": {
      "text/plain": [
       "0    #fingerprint #pregnancy test  #android #apps #...\n",
       "1    finally a transparant silicon case ^^ thanks t...\n",
       "2    we love this! would you go? #talk #makememorie...\n",
       "3    i'm wired i know i'm george i was made that wa...\n",
       "4    what amazing service! apple won't even talk to...\n",
       "Name: tweet, dtype: object"
      ]
     },
     "execution_count": 20,
     "metadata": {},
     "output_type": "execute_result"
    }
   ],
   "source": [
    "data['tweet'].head(5)"
   ]
  },
  {
   "cell_type": "code",
   "execution_count": 21,
   "id": "94d8fc67-e132-4c43-b448-114e1bca8899",
   "metadata": {},
   "outputs": [],
   "source": [
    "data['tweet'] = data['tweet'].str.replace(f\"[{string.punctuation}]\", \"\", regex=True)"
   ]
  },
  {
   "cell_type": "code",
   "execution_count": 22,
   "id": "b2284354-b58c-49a6-882c-0a5e5e847822",
   "metadata": {},
   "outputs": [
    {
     "data": {
      "text/plain": [
       "0    fingerprint pregnancy test  android apps beaut...\n",
       "1    finally a transparant silicon case  thanks to ...\n",
       "2    we love this would you go talk makememories un...\n",
       "3    im wired i know im george i was made that way ...\n",
       "4    what amazing service apple wont even talk to m...\n",
       "Name: tweet, dtype: object"
      ]
     },
     "execution_count": 22,
     "metadata": {},
     "output_type": "execute_result"
    }
   ],
   "source": [
    "data['tweet'].head(5)"
   ]
  },
  {
   "cell_type": "code",
   "execution_count": 23,
   "id": "d4ff3ce2-3856-42eb-bde5-1c64e8b5fc11",
   "metadata": {},
   "outputs": [],
   "source": [
    "data['tweet'] = data['tweet'].str.replace(r'\\d+', '', regex=True)"
   ]
  },
  {
   "cell_type": "code",
   "execution_count": 24,
   "id": "99bbc5c4-f8b0-4a2c-8eb9-bb15d182d257",
   "metadata": {},
   "outputs": [
    {
     "data": {
      "text/plain": [
       "0    fingerprint pregnancy test  android apps beaut...\n",
       "1    finally a transparant silicon case  thanks to ...\n",
       "2    we love this would you go talk makememories un...\n",
       "3    im wired i know im george i was made that way ...\n",
       "4    what amazing service apple wont even talk to m...\n",
       "Name: tweet, dtype: object"
      ]
     },
     "execution_count": 24,
     "metadata": {},
     "output_type": "execute_result"
    }
   ],
   "source": [
    "data['tweet'].head(5)"
   ]
  },
  {
   "cell_type": "code",
   "execution_count": 25,
   "id": "897ca5ff-c06f-4ebc-84cc-3ca509b486bf",
   "metadata": {},
   "outputs": [
    {
     "name": "stdout",
     "output_type": "stream",
     "text": [
      "Requirement already satisfied: nltk in c:\\users\\hasidu\\appdata\\local\\programs\\python\\python313\\lib\\site-packages (3.9.1)\n",
      "Requirement already satisfied: click in c:\\users\\hasidu\\appdata\\local\\programs\\python\\python313\\lib\\site-packages (from nltk) (8.1.7)\n",
      "Requirement already satisfied: joblib in c:\\users\\hasidu\\appdata\\local\\programs\\python\\python313\\lib\\site-packages (from nltk) (1.4.2)\n",
      "Requirement already satisfied: regex>=2021.8.3 in c:\\users\\hasidu\\appdata\\local\\programs\\python\\python313\\lib\\site-packages (from nltk) (2024.11.6)\n",
      "Requirement already satisfied: tqdm in c:\\users\\hasidu\\appdata\\local\\programs\\python\\python313\\lib\\site-packages (from nltk) (4.67.1)\n",
      "Requirement already satisfied: colorama in c:\\users\\hasidu\\appdata\\local\\programs\\python\\python313\\lib\\site-packages (from click->nltk) (0.4.6)\n",
      "Note: you may need to restart the kernel to use updated packages.\n"
     ]
    }
   ],
   "source": [
    "pip install nltk\n"
   ]
  },
  {
   "cell_type": "code",
   "execution_count": 26,
   "id": "e44b6081-53e8-4d89-92cd-cd3f485fde51",
   "metadata": {},
   "outputs": [],
   "source": [
    "import nltk"
   ]
  },
  {
   "cell_type": "code",
   "execution_count": 27,
   "id": "8de42626-9fc2-468e-a8c1-911c984ab384",
   "metadata": {},
   "outputs": [
    {
     "name": "stderr",
     "output_type": "stream",
     "text": [
      "[nltk_data] Downloading package stopwords to ../static/model...\n",
      "[nltk_data]   Package stopwords is already up-to-date!\n"
     ]
    },
    {
     "data": {
      "text/plain": [
       "True"
      ]
     },
     "execution_count": 27,
     "metadata": {},
     "output_type": "execute_result"
    }
   ],
   "source": [
    "import nltk\n",
    "\n",
    "# Download stopwords\n",
    "nltk.download('stopwords', download_dir='../static/model')\n"
   ]
  },
  {
   "cell_type": "code",
   "execution_count": 28,
   "id": "5639c1e1-435a-420f-a13b-6c217289331e",
   "metadata": {},
   "outputs": [],
   "source": [
    "with open('../static/model/corpora/stopwords/english','r')as  file:\n",
    "    sw=file.read().splitlines()"
   ]
  },
  {
   "cell_type": "code",
   "execution_count": 29,
   "id": "388c4994-e727-461f-9502-a4949e5ae68c",
   "metadata": {},
   "outputs": [],
   "source": [
    "data['tweet'] = data['tweet'].apply(lambda x: \" \".join([word for word in x.split() if word.lower() not in sw]))"
   ]
  },
  {
   "cell_type": "code",
   "execution_count": 30,
   "id": "8d2beb9e-413f-40ac-aa83-1191016daa12",
   "metadata": {},
   "outputs": [
    {
     "data": {
      "text/plain": [
       "0    fingerprint pregnancy test android apps beauti...\n",
       "1    finally transparant silicon case thanks uncle ...\n",
       "2    love would go talk makememories unplug relax i...\n",
       "3    im wired know im george made way iphone cute d...\n",
       "4    amazing service apple wont even talk question ...\n",
       "Name: tweet, dtype: object"
      ]
     },
     "execution_count": 30,
     "metadata": {},
     "output_type": "execute_result"
    }
   ],
   "source": [
    "data['tweet'].head(5)"
   ]
  },
  {
   "cell_type": "code",
   "execution_count": 31,
   "id": "ceb04502-b6e5-48e8-bc22-e74b5325251d",
   "metadata": {},
   "outputs": [],
   "source": [
    "from nltk.stem import PorterStemmer\n",
    "ps =PorterStemmer()"
   ]
  },
  {
   "cell_type": "code",
   "execution_count": 32,
   "id": "e67f4911-4128-4478-9028-750d1da83f4e",
   "metadata": {},
   "outputs": [
    {
     "data": {
      "text/plain": [
       "0    fingerprint pregnancy test android apps beauti...\n",
       "1    finally transparant silicon case thanks uncle ...\n",
       "2    love would go talk makememories unplug relax i...\n",
       "3    im wired know im george made way iphone cute d...\n",
       "4    amazing service apple wont even talk question ...\n",
       "Name: tweet, dtype: object"
      ]
     },
     "execution_count": 32,
     "metadata": {},
     "output_type": "execute_result"
    }
   ],
   "source": [
    "data['tweet'].head(5)"
   ]
  },
  {
   "cell_type": "code",
   "execution_count": 33,
   "id": "aa3dd057-5764-4995-acc1-23d0fb80b95d",
   "metadata": {},
   "outputs": [],
   "source": [
    "from collections import Counter\n",
    "vocab =Counter()"
   ]
  },
  {
   "cell_type": "code",
   "execution_count": 34,
   "id": "2dba1e1e-2714-420c-8e60-5f290014e379",
   "metadata": {},
   "outputs": [],
   "source": [
    "vocab.update(['java','python','c++'])"
   ]
  },
  {
   "cell_type": "code",
   "execution_count": 35,
   "id": "574744ce-aa45-4491-9546-212a30d7bb53",
   "metadata": {},
   "outputs": [
    {
     "data": {
      "text/plain": [
       "Counter({'java': 1, 'python': 1, 'c++': 1})"
      ]
     },
     "execution_count": 35,
     "metadata": {},
     "output_type": "execute_result"
    }
   ],
   "source": [
    "vocab"
   ]
  },
  {
   "cell_type": "code",
   "execution_count": 36,
   "id": "db4f131e-2a8f-4101-b2d3-2bb61d409678",
   "metadata": {},
   "outputs": [],
   "source": [
    "for sentence in data['tweet']:\n",
    "    vocab.update(sentence.split())\n"
   ]
  },
  {
   "cell_type": "code",
   "execution_count": 37,
   "id": "ba3addab-c1a9-4051-bf51-3ec316f9c1eb",
   "metadata": {},
   "outputs": [
    {
     "data": {
      "text/plain": [
       "Counter({'iphone': 3943,\n",
       "         'apple': 2836,\n",
       "         'samsung': 1385,\n",
       "         'new': 1137,\n",
       "         'phone': 950,\n",
       "         'sony': 818,\n",
       "         '…': 756,\n",
       "         'follow': 719,\n",
       "         'ipad': 522,\n",
       "         'love': 432,\n",
       "         'like': 425,\n",
       "         'life': 415,\n",
       "         'android': 410,\n",
       "         'ios': 380,\n",
       "         'rt': 378,\n",
       "         'day': 367,\n",
       "         'instagram': 346,\n",
       "         'cute': 321,\n",
       "         'photo': 318,\n",
       "         'gain': 310,\n",
       "         'today': 304,\n",
       "         'get': 297,\n",
       "         'im': 294,\n",
       "         'photography': 292,\n",
       "         'galaxy': 290,\n",
       "         'back': 288,\n",
       "         'got': 280,\n",
       "         'fun': 277,\n",
       "         'case': 271,\n",
       "         'news': 265,\n",
       "         'music': 261,\n",
       "         'app': 242,\n",
       "         'happy': 235,\n",
       "         'beautiful': 227,\n",
       "         'instagood': 226,\n",
       "         'funny': 223,\n",
       "         'time': 221,\n",
       "         'lol': 215,\n",
       "         'fashion': 215,\n",
       "         'one': 211,\n",
       "         'itunes': 211,\n",
       "         'tech': 206,\n",
       "         'birthday': 206,\n",
       "         'work': 204,\n",
       "         'smile': 204,\n",
       "         'ipod': 200,\n",
       "         'iphonex': 199,\n",
       "         'ps': 198,\n",
       "         'photooftheday': 191,\n",
       "         'finally': 185,\n",
       "         'everyone': 182,\n",
       "         'cant': 180,\n",
       "         'good': 179,\n",
       "         'make': 177,\n",
       "         'apps': 174,\n",
       "         'amazing': 173,\n",
       "         'girl': 173,\n",
       "         'must': 168,\n",
       "         'sougofollow': 165,\n",
       "         'dont': 164,\n",
       "         'update': 161,\n",
       "         'followers': 160,\n",
       "         'selfie': 159,\n",
       "         'mac': 159,\n",
       "         'note': 158,\n",
       "         'fail': 153,\n",
       "         'thanks': 149,\n",
       "         'free': 149,\n",
       "         'rts': 147,\n",
       "         'would': 146,\n",
       "         'friends': 145,\n",
       "         'fuck': 145,\n",
       "         'home': 143,\n",
       "         'hate': 142,\n",
       "         'igers': 139,\n",
       "         'want': 139,\n",
       "         'family': 138,\n",
       "         'iphonesia': 137,\n",
       "         'baby': 136,\n",
       "         'best': 136,\n",
       "         'camera': 134,\n",
       "         'cool': 133,\n",
       "         'art': 130,\n",
       "         'iphoneonly': 129,\n",
       "         'fucking': 128,\n",
       "         'every': 127,\n",
       "         'gift': 125,\n",
       "         'christmas': 124,\n",
       "         'iphones': 123,\n",
       "         'go': 122,\n",
       "         'health': 120,\n",
       "         'smartphone': 119,\n",
       "         'summer': 119,\n",
       "         'picoftheday': 117,\n",
       "         'live': 116,\n",
       "         'white': 115,\n",
       "         'u': 113,\n",
       "         'still': 112,\n",
       "         'game': 110,\n",
       "         'sale': 110,\n",
       "         'look': 109,\n",
       "         'much': 109,\n",
       "         'mobile': 105,\n",
       "         'macbook': 104,\n",
       "         'games': 103,\n",
       "         'money': 102,\n",
       "         'night': 102,\n",
       "         'awesome': 102,\n",
       "         'need': 101,\n",
       "         'buy': 101,\n",
       "         'ever': 101,\n",
       "         'thank': 100,\n",
       "         'nature': 100,\n",
       "         'know': 99,\n",
       "         'charger': 98,\n",
       "         'ff': 97,\n",
       "         'great': 96,\n",
       "         'windows': 95,\n",
       "         'screen': 94,\n",
       "         'sexy': 94,\n",
       "         'motorola': 94,\n",
       "         'year': 93,\n",
       "         'beauty': 93,\n",
       "         'wish': 93,\n",
       "         'even': 92,\n",
       "         'laptop': 92,\n",
       "         'style': 91,\n",
       "         'instamood': 90,\n",
       "         'black': 89,\n",
       "         'followme': 89,\n",
       "         'use': 88,\n",
       "         'excited': 88,\n",
       "         'going': 87,\n",
       "         'twitter': 87,\n",
       "         'nice': 87,\n",
       "         'wont': 86,\n",
       "         'technology': 86,\n",
       "         'pink': 86,\n",
       "         'iphone…': 86,\n",
       "         'last': 86,\n",
       "         'download': 84,\n",
       "         'accessories': 84,\n",
       "         'really': 83,\n",
       "         'ive': 83,\n",
       "         'suck': 82,\n",
       "         'store': 82,\n",
       "         'never': 81,\n",
       "         'first': 81,\n",
       "         'minute': 81,\n",
       "         'people': 81,\n",
       "         'us': 80,\n",
       "         'sweet': 80,\n",
       "         'colors': 80,\n",
       "         'retweet': 80,\n",
       "         'old': 80,\n",
       "         'morning': 80,\n",
       "         'thing': 79,\n",
       "         'via': 79,\n",
       "         'right': 78,\n",
       "         'photos': 76,\n",
       "         'playstation': 76,\n",
       "         'fuckyou': 75,\n",
       "         'everything': 75,\n",
       "         'hey': 73,\n",
       "         'made': 72,\n",
       "         'google': 72,\n",
       "         'tv': 72,\n",
       "         'pretty': 72,\n",
       "         'another': 71,\n",
       "         'well': 71,\n",
       "         'cases': 71,\n",
       "         'battery': 70,\n",
       "         'think': 70,\n",
       "         'shopping': 69,\n",
       "         'gaming': 69,\n",
       "         'red': 69,\n",
       "         'doesnt': 69,\n",
       "         'galaxys': 69,\n",
       "         'yay': 68,\n",
       "         'stupid': 68,\n",
       "         'computer': 68,\n",
       "         'say': 68,\n",
       "         'x': 68,\n",
       "         'products': 68,\n",
       "         'sun': 67,\n",
       "         'working': 67,\n",
       "         'world': 67,\n",
       "         'instadaily': 66,\n",
       "         'boy': 65,\n",
       "         'getting': 65,\n",
       "         'watch': 65,\n",
       "         'hours': 65,\n",
       "         'count': 65,\n",
       "         'big': 64,\n",
       "         'food': 64,\n",
       "         'phones': 64,\n",
       "         'nokia': 64,\n",
       "         'blue': 64,\n",
       "         'check': 63,\n",
       "         'always': 63,\n",
       "         'appstore': 63,\n",
       "         'friday': 63,\n",
       "         'travel': 62,\n",
       "         'cover': 62,\n",
       "         'tls': 62,\n",
       "         'amazon': 61,\n",
       "         'video': 61,\n",
       "         'sunset': 60,\n",
       "         'guys': 60,\n",
       "         'days': 59,\n",
       "         'keep': 59,\n",
       "         'see': 59,\n",
       "         'present': 59,\n",
       "         'happiness': 58,\n",
       "         'customer': 58,\n",
       "         'capetown': 58,\n",
       "         'trying': 58,\n",
       "         'hello': 58,\n",
       "         'xperia': 57,\n",
       "         'laugh': 57,\n",
       "         'bought': 57,\n",
       "         'blackberry': 57,\n",
       "         'take': 57,\n",
       "         'sunday': 56,\n",
       "         'wait': 56,\n",
       "         'since': 56,\n",
       "         'ig': 56,\n",
       "         'wow': 56,\n",
       "         'better': 56,\n",
       "         'instapic': 55,\n",
       "         'lost': 55,\n",
       "         'youtube': 54,\n",
       "         'hot': 54,\n",
       "         'followback': 54,\n",
       "         'oh': 54,\n",
       "         'gb': 54,\n",
       "         'surf': 54,\n",
       "         'headphones': 54,\n",
       "         'sky': 53,\n",
       "         'capetownsup': 53,\n",
       "         'sup': 53,\n",
       "         'facebook': 53,\n",
       "         'green': 52,\n",
       "         'dog': 52,\n",
       "         'iphoneography': 52,\n",
       "         'gold': 52,\n",
       "         'g': 52,\n",
       "         'top': 52,\n",
       "         'weekend': 52,\n",
       "         'week': 51,\n",
       "         'pic': 51,\n",
       "         'put': 51,\n",
       "         'th': 51,\n",
       "         'wifi': 50,\n",
       "         'tweegram': 50,\n",
       "         'twitch': 50,\n",
       "         'beach': 50,\n",
       "         'macbookpro': 50,\n",
       "         'come': 50,\n",
       "         'way': 49,\n",
       "         'newyear': 49,\n",
       "         'hard': 49,\n",
       "         'share': 49,\n",
       "         'hateapple': 49,\n",
       "         'iphoneplus': 49,\n",
       "         'book': 49,\n",
       "         'tablet': 49,\n",
       "         'god': 49,\n",
       "         'years': 49,\n",
       "         'using': 49,\n",
       "         'design': 48,\n",
       "         'play': 48,\n",
       "         'dear': 48,\n",
       "         'hour': 48,\n",
       "         'mine': 48,\n",
       "         'deleted': 48,\n",
       "         'cat': 48,\n",
       "         'offers': 48,\n",
       "         'fix': 48,\n",
       "         'upgrade': 48,\n",
       "         'please': 47,\n",
       "         'didnt': 47,\n",
       "         'party': 47,\n",
       "         'yes': 47,\n",
       "         'yeah': 47,\n",
       "         'girls': 47,\n",
       "         'sales': 47,\n",
       "         'little': 46,\n",
       "         'text': 46,\n",
       "         'friend': 46,\n",
       "         'service': 45,\n",
       "         'thats': 45,\n",
       "         'siri': 45,\n",
       "         'kids': 45,\n",
       "         'face': 44,\n",
       "         'shop': 44,\n",
       "         'came': 44,\n",
       "         'ya': 44,\n",
       "         'gamer': 44,\n",
       "         'give': 44,\n",
       "         'pro': 44,\n",
       "         'swag': 44,\n",
       "         'welcome': 44,\n",
       "         'two': 44,\n",
       "         'try': 44,\n",
       "         'could': 44,\n",
       "         'newphone': 44,\n",
       "         'let': 43,\n",
       "         'dating': 43,\n",
       "         'may': 43,\n",
       "         'find': 43,\n",
       "         'deals': 43,\n",
       "         'plus': 43,\n",
       "         'coming': 43,\n",
       "         'microsoft': 43,\n",
       "         'product': 42,\n",
       "         'id': 42,\n",
       "         'usa': 42,\n",
       "         'took': 42,\n",
       "         'blog': 42,\n",
       "         'pictures': 42,\n",
       "         'likelike': 42,\n",
       "         'jobs': 42,\n",
       "         'gonna': 42,\n",
       "         'att': 42,\n",
       "         'crazy': 41,\n",
       "         'charge': 41,\n",
       "         'random': 41,\n",
       "         'already': 41,\n",
       "         'available': 41,\n",
       "         'nofilter': 41,\n",
       "         'oneplus': 41,\n",
       "         'insta': 41,\n",
       "         'vsco': 41,\n",
       "         'heart': 41,\n",
       "         '•': 41,\n",
       "         'hair': 41,\n",
       "         'support': 40,\n",
       "         'saturday': 40,\n",
       "         'sucks': 40,\n",
       "         'picture': 40,\n",
       "         'updated': 40,\n",
       "         'power': 40,\n",
       "         'man': 40,\n",
       "         'seriously': 39,\n",
       "         'apples': 39,\n",
       "         'quote': 39,\n",
       "         'w': 39,\n",
       "         'bestprice': 39,\n",
       "         'toys': 39,\n",
       "         'miss': 39,\n",
       "         'broken': 38,\n",
       "         'p': 38,\n",
       "         'tab': 38,\n",
       "         'ready': 38,\n",
       "         'haha': 38,\n",
       "         'enjoy': 38,\n",
       "         'couple': 38,\n",
       "         'tbt': 38,\n",
       "         'discount': 38,\n",
       "         'done': 37,\n",
       "         'bad': 37,\n",
       "         'joy': 37,\n",
       "         'gifts': 37,\n",
       "         'makes': 37,\n",
       "         'coffee': 37,\n",
       "         'things': 37,\n",
       "         'start': 37,\n",
       "         'phonecase': 37,\n",
       "         'gadget': 37,\n",
       "         'trip': 37,\n",
       "         'reason': 36,\n",
       "         'yet': 36,\n",
       "         'mom': 36,\n",
       "         'enough': 36,\n",
       "         'help': 36,\n",
       "         '—': 36,\n",
       "         'shit': 36,\n",
       "         'waiting': 36,\n",
       "         'holiday': 36,\n",
       "         'monday': 35,\n",
       "         'nothing': 35,\n",
       "         'business': 35,\n",
       "         'arrived': 35,\n",
       "         'gay': 35,\n",
       "         'show': 35,\n",
       "         'ago': 35,\n",
       "         'taken': 34,\n",
       "         'early': 34,\n",
       "         'many': 34,\n",
       "         'peace': 34,\n",
       "         'long': 34,\n",
       "         'soon': 34,\n",
       "         'stuff': 34,\n",
       "         'next': 34,\n",
       "         'pc': 34,\n",
       "         'verizon': 34,\n",
       "         'anyone': 34,\n",
       "         'loving': 34,\n",
       "         'fresh': 34,\n",
       "         'code': 34,\n",
       "         'toy': 34,\n",
       "         'house': 34,\n",
       "         'piece': 34,\n",
       "         'relax': 33,\n",
       "         'pay': 33,\n",
       "         'job': 33,\n",
       "         'song': 33,\n",
       "         'imessage': 33,\n",
       "         'looks': 33,\n",
       "         'model': 33,\n",
       "         'making': 33,\n",
       "         'color': 32,\n",
       "         'someone': 32,\n",
       "         'flower': 32,\n",
       "         'instago': 32,\n",
       "         'teamfollowback': 32,\n",
       "         'something': 32,\n",
       "         'spring': 32,\n",
       "         'galaxynote': 32,\n",
       "         'real': 32,\n",
       "         'college': 32,\n",
       "         'blessed': 32,\n",
       "         'sad': 32,\n",
       "         'favorite': 32,\n",
       "         'k': 32,\n",
       "         'worst': 32,\n",
       "         'mini': 32,\n",
       "         'moment': 31,\n",
       "         'months': 31,\n",
       "         'company': 31,\n",
       "         'car': 31,\n",
       "         'valentines': 31,\n",
       "         'portrait': 31,\n",
       "         'password': 31,\n",
       "         'husband': 31,\n",
       "         'fast': 31,\n",
       "         'hope': 31,\n",
       "         'gadgets': 31,\n",
       "         'steemit': 31,\n",
       "         'rhymes': 31,\n",
       "         'rhyme': 31,\n",
       "         'london': 31,\n",
       "         'sony…': 31,\n",
       "         'switch': 31,\n",
       "         'cable': 30,\n",
       "         'water': 30,\n",
       "         'chargers': 30,\n",
       "         'actually': 30,\n",
       "         'light': 30,\n",
       "         'followsunday': 30,\n",
       "         'nyc': 30,\n",
       "         'image': 30,\n",
       "         'healthy': 30,\n",
       "         'gratitude': 30,\n",
       "         'restore': 30,\n",
       "         'steve': 30,\n",
       "         'ill': 30,\n",
       "         'anything': 30,\n",
       "         'minutes': 30,\n",
       "         'pissed': 30,\n",
       "         'broke': 29,\n",
       "         'xbox': 29,\n",
       "         'single': 29,\n",
       "         'geek': 29,\n",
       "         'air': 29,\n",
       "         'sonylens': 29,\n",
       "         'sonyphotography': 29,\n",
       "         'lock': 29,\n",
       "         'feel': 29,\n",
       "         'software': 28,\n",
       "         'c': 28,\n",
       "         'tree': 28,\n",
       "         'win': 28,\n",
       "         'z': 28,\n",
       "         'turn': 28,\n",
       "         'stop': 28,\n",
       "         'kindle': 28,\n",
       "         'decor': 28,\n",
       "         'gone': 28,\n",
       "         'thailand': 28,\n",
       "         'giving': 27,\n",
       "         'button': 27,\n",
       "         'songs': 27,\n",
       "         'call': 27,\n",
       "         'sleep': 27,\n",
       "         'popular': 27,\n",
       "         'tweet': 27,\n",
       "         'perfect': 27,\n",
       "         'os': 27,\n",
       "         'story': 27,\n",
       "         'florida': 27,\n",
       "         'lg': 27,\n",
       "         'without': 27,\n",
       "         'images': 27,\n",
       "         'андроид': 27,\n",
       "         'tomorrow': 27,\n",
       "         'change': 27,\n",
       "         'pcs': 27,\n",
       "         'also': 27,\n",
       "         'said': 27,\n",
       "         'care': 27,\n",
       "         'ok': 27,\n",
       "         'brand': 27,\n",
       "         'sure': 27,\n",
       "         'school': 26,\n",
       "         'users': 26,\n",
       "         'pop': 26,\n",
       "         'wedding': 26,\n",
       "         'quotes': 26,\n",
       "         'contacts': 26,\n",
       "         'b': 26,\n",
       "         'sync': 26,\n",
       "         'used': 26,\n",
       "         'listen': 26,\n",
       "         'smart': 26,\n",
       "         'imac': 26,\n",
       "         'italy': 26,\n",
       "         'away': 26,\n",
       "         'ebay': 26,\n",
       "         'dad': 26,\n",
       "         'igdaily': 26,\n",
       "         'ugh': 26,\n",
       "         'instalike': 26,\n",
       "         'instalove': 26,\n",
       "         'iphonecase': 26,\n",
       "         'works': 26,\n",
       "         'pm': 26,\n",
       "         'uk': 25,\n",
       "         'movies': 25,\n",
       "         'less': 25,\n",
       "         'feeling': 25,\n",
       "         'lets': 25,\n",
       "         'whole': 25,\n",
       "         'crap': 25,\n",
       "         'fixed': 25,\n",
       "         'super': 25,\n",
       "         'luxury': 25,\n",
       "         'looking': 25,\n",
       "         'vocation': 25,\n",
       "         'khaoko': 25,\n",
       "         'ilce': 25,\n",
       "         'htc': 25,\n",
       "         'psn': 25,\n",
       "         'flash': 25,\n",
       "         'isnt': 25,\n",
       "         'pie': 24,\n",
       "         'instahub': 24,\n",
       "         'delete': 24,\n",
       "         'newyork': 24,\n",
       "         'month': 24,\n",
       "         'device': 24,\n",
       "         '–': 24,\n",
       "         'lifestyle': 24,\n",
       "         'card': 24,\n",
       "         'daughter': 24,\n",
       "         'photographer': 24,\n",
       "         'instagood…': 24,\n",
       "         'jj': 24,\n",
       "         'theres': 24,\n",
       "         'times': 24,\n",
       "         'city': 24,\n",
       "         'cellphone': 24,\n",
       "         'unitedstate': 24,\n",
       "         'guitarplayer': 24,\n",
       "         'emoji': 24,\n",
       "         'sonyphoto': 24,\n",
       "         'india': 24,\n",
       "         'tell': 24,\n",
       "         'order': 24,\n",
       "         'playing': 24,\n",
       "         'kiss': 24,\n",
       "         'japan': 24,\n",
       "         'applewatch': 24,\n",
       "         'mirror': 24,\n",
       "         'entrepreneur': 24,\n",
       "         'xperiaz': 23,\n",
       "         'blackandwhite': 23,\n",
       "         'instacool': 23,\n",
       "         '£': 23,\n",
       "         'problem': 23,\n",
       "         'words': 23,\n",
       "         'annoying': 23,\n",
       "         'full': 23,\n",
       "         'version': 23,\n",
       "         'bestoftheday': 23,\n",
       "         'send': 23,\n",
       "         'shotoniphone': 23,\n",
       "         'fruit': 23,\n",
       "         'updates': 23,\n",
       "         'though': 23,\n",
       "         'makeup': 23,\n",
       "         'samsung…': 23,\n",
       "         'photofeed': 23,\n",
       "         'woman': 23,\n",
       "         'charging': 23,\n",
       "         'maps': 23,\n",
       "         'cake': 23,\n",
       "         'flowers': 23,\n",
       "         'yesterday': 23,\n",
       "         'guy': 23,\n",
       "         'break': 23,\n",
       "         'wtf': 23,\n",
       "         'snapspeed…': 23,\n",
       "         'kid': 23,\n",
       "         'e': 23,\n",
       "         'goes': 22,\n",
       "         'sister': 22,\n",
       "         'eyes': 22,\n",
       "         'run': 22,\n",
       "         'gear': 22,\n",
       "         'keyboard': 22,\n",
       "         'usb': 22,\n",
       "         'taking': 22,\n",
       "         'icloud': 22,\n",
       "         'small': 22,\n",
       "         'orange': 22,\n",
       "         'reallyreal': 22,\n",
       "         'true': 22,\n",
       "         'garden': 22,\n",
       "         'jun': 22,\n",
       "         'r': 22,\n",
       "         'sound': 22,\n",
       "         'numbers': 22,\n",
       "         'went': 22,\n",
       "         'proud': 22,\n",
       "         'exquisite': 22,\n",
       "         'squishy': 22,\n",
       "         'charm': 22,\n",
       "         'straps': 22,\n",
       "         'ly': 22,\n",
       "         'smiles': 22,\n",
       "         'problems': 22,\n",
       "         'puppy': 22,\n",
       "         'saying': 22,\n",
       "         'click': 22,\n",
       "         'buying': 22,\n",
       "         'needs': 22,\n",
       "         'fact': 21,\n",
       "         'email': 21,\n",
       "         'ootd': 21,\n",
       "         'bit': 21,\n",
       "         'thought': 21,\n",
       "         'valentine': 21,\n",
       "         'literally': 21,\n",
       "         'keeps': 21,\n",
       "         'chocolate': 21,\n",
       "         'nike': 21,\n",
       "         'might': 21,\n",
       "         'boyfriend': 21,\n",
       "         'almost': 21,\n",
       "         'rain': 21,\n",
       "         'dj': 21,\n",
       "         'tuesday': 21,\n",
       "         'forever': 21,\n",
       "         'gets': 21,\n",
       "         'messages': 21,\n",
       "         'line': 21,\n",
       "         'samsunggalaxys': 20,\n",
       "         'dead': 20,\n",
       "         'truth': 20,\n",
       "         'ur': 20,\n",
       "         'set': 20,\n",
       "         'likes': 20,\n",
       "         'holidays': 20,\n",
       "         'ipadmini': 20,\n",
       "         'features': 20,\n",
       "         'tmobile': 20,\n",
       "         'videos': 20,\n",
       "         'prophet': 20,\n",
       "         'sick': 20,\n",
       "         'offer': 20,\n",
       "         'fit': 20,\n",
       "         'user': 20,\n",
       "         'lens': 20,\n",
       "         'feed': 20,\n",
       "         'learn': 20,\n",
       "         'youre': 20,\n",
       "         'word': 20,\n",
       "         'fitness': 20,\n",
       "         'tshirt': 20,\n",
       "         'inch': 20,\n",
       "         'data': 20,\n",
       "         'redbubble': 20,\n",
       "         'whats': 20,\n",
       "         'brother': 20,\n",
       "         'thankyou': 20,\n",
       "         'message': 20,\n",
       "         'latest': 20,\n",
       "         'tonight': 20,\n",
       "         'together': 20,\n",
       "         'decided': 20,\n",
       "         'computers': 20,\n",
       "         'believe': 20,\n",
       "         'facetime': 20,\n",
       "         'xmas': 20,\n",
       "         'daddy': 20,\n",
       "         'havent': 19,\n",
       "         'pics': 19,\n",
       "         'film': 19,\n",
       "         'it’s': 19,\n",
       "         'wrong': 19,\n",
       "         'dogs': 19,\n",
       "         'n': 19,\n",
       "         'half': 19,\n",
       "         'simple': 19,\n",
       "         'goodnight': 19,\n",
       "         'deal': 19,\n",
       "         'loves': 19,\n",
       "         'date': 19,\n",
       "         'april': 19,\n",
       "         'else': 19,\n",
       "         'says': 19,\n",
       "         'future': 19,\n",
       "         'shitty': 19,\n",
       "         'link': 19,\n",
       "         'different': 19,\n",
       "         'release': 19,\n",
       "         'lot': 19,\n",
       "         'mother': 19,\n",
       "         'adorable': 19,\n",
       "         'post': 19,\n",
       "         'moments': 19,\n",
       "         'winter': 19,\n",
       "         'foodporn': 19,\n",
       "         'canon': 19,\n",
       "         'yummy': 19,\n",
       "         'street': 19,\n",
       "         'photobooth': 19,\n",
       "         'fucked': 18,\n",
       "         'texts': 18,\n",
       "         'market': 18,\n",
       "         'indonesia': 18,\n",
       "         'sorry': 18,\n",
       "         'magic': 18,\n",
       "         'price': 18,\n",
       "         'poem': 18,\n",
       "         'fml': 18,\n",
       "         'past': 18,\n",
       "         'sonyalpha': 18,\n",
       "         'mm': 18,\n",
       "         'devices': 18,\n",
       "         'account': 18,\n",
       "         'high': 18,\n",
       "         'totally': 18,\n",
       "         'team': 18,\n",
       "         'cause': 18,\n",
       "         'sonyphotos': 18,\n",
       "         'dance': 18,\n",
       "         'running': 18,\n",
       "         'weeks': 18,\n",
       "         'hd': 18,\n",
       "         'room': 18,\n",
       "         'men': 18,\n",
       "         'unique': 18,\n",
       "         'miami': 18,\n",
       "         'glad': 18,\n",
       "         'unlocked': 18,\n",
       "         'sea': 18,\n",
       "         'guess': 18,\n",
       "         'relationships': 18,\n",
       "         'sorority': 18,\n",
       "         'likeforlike': 17,\n",
       "         'purchase': 17,\n",
       "         'completely': 17,\n",
       "         'daily': 17,\n",
       "         'end': 17,\n",
       "         'fan': 17,\n",
       "         'blackfriday': 17,\n",
       "         'creative': 17,\n",
       "         'repair': 17,\n",
       "         'special': 17,\n",
       "         'mood': 17,\n",
       "         'vaio': 17,\n",
       "         'upgraded': 17,\n",
       "         'throw': 17,\n",
       "         'passion': 17,\n",
       "         'sprint': 17,\n",
       "         'tattoo': 17,\n",
       "         'calendar': 17,\n",
       "         'drink': 17,\n",
       "         'delicious': 17,\n",
       "         'far': 17,\n",
       "         'al': 17,\n",
       "         'june': 17,\n",
       "         'canada': 17,\n",
       "         'sent': 17,\n",
       "         'fans': 17,\n",
       "         'march': 17,\n",
       "         'zeeland': 17,\n",
       "         'nikon': 17,\n",
       "         'applesucks': 17,\n",
       "         'visit': 17,\n",
       "         'trump': 17,\n",
       "         'california': 17,\n",
       "         'slow': 17,\n",
       "         'cracked': 17,\n",
       "         'console': 17,\n",
       "         'mind': 17,\n",
       "         'artist': 17,\n",
       "         'november': 17,\n",
       "         'shipping': 17,\n",
       "         'clouds': 17,\n",
       "         'digital': 17,\n",
       "         'internet': 17,\n",
       "         'talk': 16,\n",
       "         'wall': 16,\n",
       "         'pet': 16,\n",
       "         'hashtag': 16,\n",
       "         'bright': 16,\n",
       "         'soul': 16,\n",
       "         'able': 16,\n",
       "         'open': 16,\n",
       "         'stevejobs': 16,\n",
       "         'least': 16,\n",
       "         'space': 16,\n",
       "         'ny': 16,\n",
       "         'angry': 16,\n",
       "         'gorgeous': 16,\n",
       "         'wanna': 16,\n",
       "         'europe': 16,\n",
       "         'inlove': 16,\n",
       "         'lte': 16,\n",
       "         'storage': 16,\n",
       "         'beats': 16,\n",
       "         'sunny': 16,\n",
       "         'left': 16,\n",
       "         'bestfriend': 16,\n",
       "         'reposting': 16,\n",
       "         'v': 16,\n",
       "         'online': 16,\n",
       "         'idea': 16,\n",
       "         'fb': 16,\n",
       "         'drop': 16,\n",
       "         'phonecases': 16,\n",
       "         'bored': 16,\n",
       "         'dropped': 15,\n",
       "         'touch': 15,\n",
       "         'wallpaper': 15,\n",
       "         'landscape': 15,\n",
       "         'rock': 15,\n",
       "         'reset': 15,\n",
       "         'shoot': 15,\n",
       "         'memory': 15,\n",
       "         'yum': 15,\n",
       "         'fall': 15,\n",
       "         'evening': 15,\n",
       "         'uae': 15,\n",
       "         'ipads': 15,\n",
       "         'purple': 15,\n",
       "         'paris': 15,\n",
       "         'silver': 15,\n",
       "         'experience': 15,\n",
       "         'edge': 15,\n",
       "         'takes': 15,\n",
       "         'newtoy': 15,\n",
       "         'videogames': 15,\n",
       "         'bye': 15,\n",
       "         'wireless': 15,\n",
       "         'gotta': 15,\n",
       "         'smartphones': 15,\n",
       "         'followfollow': 15,\n",
       "         'wants': 15,\n",
       "         'f': 15,\n",
       "         'chill': 15,\n",
       "         'found': 15,\n",
       "         'longer': 15,\n",
       "         'snow': 15,\n",
       "         'gave': 15,\n",
       "         'stay': 15,\n",
       "         'vintage': 15,\n",
       "         'later': 15,\n",
       "         'january': 15,\n",
       "         'apple…': 15,\n",
       "         'ask': 15,\n",
       "         'gs': 15,\n",
       "         'type': 14,\n",
       "         'america': 14,\n",
       "         'bday': 14,\n",
       "         'cut': 14,\n",
       "         'iphonephotography': 14,\n",
       "         'original': 14,\n",
       "         'replaced': 14,\n",
       "         'i’m': 14,\n",
       "         'quality': 14,\n",
       "         'mode': 14,\n",
       "         'rid': 14,\n",
       "         'hand': 14,\n",
       "         'cold': 14,\n",
       "         'okay': 14,\n",
       "         'valentinesday': 14,\n",
       "         'february': 14,\n",
       "         'shot': 14,\n",
       "         'hi': 14,\n",
       "         'instaphoto': 14,\n",
       "         'middle': 14,\n",
       "         'info': 14,\n",
       "         'bots': 14,\n",
       "         'drive': 14,\n",
       "         'wouldnt': 14,\n",
       "         'unlock': 14,\n",
       "         'mommy': 14,\n",
       "         'purpose': 14,\n",
       "         'tried': 14,\n",
       "         'anymore': 14,\n",
       "         'cell': 14,\n",
       "         'vscocam': 14,\n",
       "         'tired': 14,\n",
       "         'useless': 14,\n",
       "         'starbucks': 14,\n",
       "         'dinner': 14,\n",
       "         'ordered': 14,\n",
       "         'spent': 14,\n",
       "         'bring': 14,\n",
       "         'king': 14,\n",
       "         'part': 14,\n",
       "         'merry': 14,\n",
       "         'stuck': 14,\n",
       "         'wonderful': 14,\n",
       "         'inspiration': 14,\n",
       "         'office': 14,\n",
       "         'self': 14,\n",
       "         'save': 14,\n",
       "         'aliusaexpress': 14,\n",
       "         'mi': 14,\n",
       "         'bed': 14,\n",
       "         'die': 14,\n",
       "         'photograph': 14,\n",
       "         'goodbye': 14,\n",
       "         'breakfast': 14,\n",
       "         'shoppinglist': 14,\n",
       "         'xd': 14,\n",
       "         'led': 14,\n",
       "         'goals': 13,\n",
       "         'freaking': 13,\n",
       "         'producer': 13,\n",
       "         'view': 13,\n",
       "         'cloud': 13,\n",
       "         'complete': 13,\n",
       "         'singer': 13,\n",
       "         'chilling': 13,\n",
       "         'samsunggalaxy': 13,\n",
       "         'nowplaying': 13,\n",
       "         'banana': 13,\n",
       "         'added': 13,\n",
       "         'babe': 13,\n",
       "         'told': 13,\n",
       "         'three': 13,\n",
       "         'colorful': 13,\n",
       "         'zoom': 13,\n",
       "         'children': 13,\n",
       "         'goodmorning': 13,\n",
       "         'mad': 13,\n",
       "         'marketing': 13,\n",
       "         'thx': 13,\n",
       "         'wasnt': 13,\n",
       "         'finger': 13,\n",
       "         'cats': 13,\n",
       "         'library': 13,\n",
       "         'da': 13,\n",
       "         'appletv': 13,\n",
       "         'second': 13,\n",
       "         'deleting': 13,\n",
       "         'bluetooth': 13,\n",
       "         'samsungmobile': 13,\n",
       "         'social': 13,\n",
       "         'movie': 13,\n",
       "         'explore': 13,\n",
       "         'rs': 13,\n",
       "         'piano': 13,\n",
       "         'happened': 13,\n",
       "         'collection': 13,\n",
       "         'planet': 13,\n",
       "         'choose': 13,\n",
       "         'dream': 13,\n",
       "         'thankful': 13,\n",
       "         'stand': 13,\n",
       "         'read': 13,\n",
       "         'till': 13,\n",
       "         'worse': 13,\n",
       "         'webstagram': 13,\n",
       "         'forgot': 13,\n",
       "         'huge': 13,\n",
       "         'weather': 13,\n",
       "         'adventure': 13,\n",
       "         'place': 13,\n",
       "         'animal': 13,\n",
       "         'applesupport': 13,\n",
       "         'spotify': 13,\n",
       "         'followtrick': 13,\n",
       "         'rose': 13,\n",
       "         'dessert': 13,\n",
       "         'replace': 13,\n",
       "         'listening': 12,\n",
       "         'agree': 12,\n",
       "         'easter': 12,\n",
       "         'wife': 12,\n",
       "         'patent': 12,\n",
       "         'subscribe': 12,\n",
       "         'instagram…': 12,\n",
       "         ...})"
      ]
     },
     "execution_count": 37,
     "metadata": {},
     "output_type": "execute_result"
    }
   ],
   "source": [
    "vocab"
   ]
  },
  {
   "cell_type": "code",
   "execution_count": 38,
   "id": "ef345dc5-f7de-43f7-a4b2-88e6d1d28228",
   "metadata": {},
   "outputs": [
    {
     "data": {
      "text/plain": [
       "18091"
      ]
     },
     "execution_count": 38,
     "metadata": {},
     "output_type": "execute_result"
    }
   ],
   "source": [
    "len(vocab)"
   ]
  },
  {
   "cell_type": "code",
   "execution_count": 39,
   "id": "1ecbaf77-77c5-4340-b596-4cf8bf8e7497",
   "metadata": {},
   "outputs": [],
   "source": [
    "tokens=[key for key in vocab if vocab[key]>10]"
   ]
  },
  {
   "cell_type": "code",
   "execution_count": 40,
   "id": "e92a58f6-5d58-42ab-b599-23e1d7e2611d",
   "metadata": {},
   "outputs": [],
   "source": [
    " def save_vocabulary(lines,filename):\n",
    "     data='\\n'.join(lines)\n",
    "     file=open(filename,'w',encoding=\"utf-8\")\n",
    "     file.write(data)\n",
    "     file.close()\n",
    "\n",
    "save_vocabulary(tokens,'../static/model/vocabulary.txt')"
   ]
  },
  {
   "cell_type": "markdown",
   "id": "9bf7e27d-ac07-44f1-9877-25bde939f307",
   "metadata": {},
   "source": [
    "###divide dataset"
   ]
  },
  {
   "cell_type": "code",
   "execution_count": 41,
   "id": "81c1dcb1-7117-4577-a632-f24616d97c9e",
   "metadata": {},
   "outputs": [],
   "source": [
    "x=data['tweet']\n",
    "y=data['label']"
   ]
  },
  {
   "cell_type": "code",
   "execution_count": 42,
   "id": "9c6fcb02-2f0a-4f09-8d1a-d7f7f8806e17",
   "metadata": {},
   "outputs": [
    {
     "data": {
      "text/plain": [
       "0       0\n",
       "1       0\n",
       "2       0\n",
       "3       0\n",
       "4       1\n",
       "       ..\n",
       "7915    0\n",
       "7916    0\n",
       "7917    0\n",
       "7918    0\n",
       "7919    0\n",
       "Name: label, Length: 7920, dtype: int64"
      ]
     },
     "execution_count": 42,
     "metadata": {},
     "output_type": "execute_result"
    }
   ],
   "source": [
    "y"
   ]
  },
  {
   "cell_type": "code",
   "execution_count": 43,
   "id": "c7e1bc5f-41b3-4f35-a8ea-b9ef56bb2bc0",
   "metadata": {},
   "outputs": [
    {
     "name": "stdout",
     "output_type": "stream",
     "text": [
      "Requirement already satisfied: scikit-learn in c:\\users\\hasidu\\appdata\\local\\programs\\python\\python313\\lib\\site-packages (1.5.2)\n",
      "Requirement already satisfied: numpy>=1.19.5 in c:\\users\\hasidu\\appdata\\local\\programs\\python\\python313\\lib\\site-packages (from scikit-learn) (2.1.3)\n",
      "Requirement already satisfied: scipy>=1.6.0 in c:\\users\\hasidu\\appdata\\local\\programs\\python\\python313\\lib\\site-packages (from scikit-learn) (1.14.1)\n",
      "Requirement already satisfied: joblib>=1.2.0 in c:\\users\\hasidu\\appdata\\local\\programs\\python\\python313\\lib\\site-packages (from scikit-learn) (1.4.2)\n",
      "Requirement already satisfied: threadpoolctl>=3.1.0 in c:\\users\\hasidu\\appdata\\local\\programs\\python\\python313\\lib\\site-packages (from scikit-learn) (3.5.0)\n"
     ]
    }
   ],
   "source": [
    " !pip install scikit-learn"
   ]
  },
  {
   "cell_type": "code",
   "execution_count": 44,
   "id": "54b28f01-a6d4-43ce-90b5-07576b478d19",
   "metadata": {},
   "outputs": [],
   "source": [
    "from sklearn.model_selection import train_test_split\n",
    "x_train,x_test,y_train,y_test =train_test_split(x,y,test_size=0.2)"
   ]
  },
  {
   "cell_type": "code",
   "execution_count": 45,
   "id": "b5d5ee6e-0bc7-4fbf-a664-c9e0c7052993",
   "metadata": {},
   "outputs": [
    {
     "data": {
      "text/plain": [
       "(6336,)"
      ]
     },
     "execution_count": 45,
     "metadata": {},
     "output_type": "execute_result"
    }
   ],
   "source": [
    "x_train.shape"
   ]
  },
  {
   "cell_type": "code",
   "execution_count": 46,
   "id": "ff576042-7086-4fc4-82b1-966940248fbd",
   "metadata": {},
   "outputs": [
    {
     "data": {
      "text/plain": [
       "(1584,)"
      ]
     },
     "execution_count": 46,
     "metadata": {},
     "output_type": "execute_result"
    }
   ],
   "source": [
    "x_test.shape"
   ]
  },
  {
   "cell_type": "markdown",
   "id": "8cfe9333-6a7c-4182-86ea-6af41678e6ad",
   "metadata": {},
   "source": [
    "###vectorization"
   ]
  },
  {
   "cell_type": "code",
   "execution_count": 47,
   "id": "a04eba7c-0db7-4025-9e7c-7efd52f1505a",
   "metadata": {},
   "outputs": [],
   "source": [
    "def vectorizer(ds, vocabulary):\n",
    "    vectorized_lst = []\n",
    "    \n",
    "    for sentence in ds:\n",
    "        sentence_lst = np.zeros(len(vocabulary))\n",
    "        \n",
    "        for i in range(len(vocabulary)):\n",
    "            if vocabulary[i] in sentence.split():\n",
    "                sentence_lst[i] = 1\n",
    "                \n",
    "        vectorized_lst.append(sentence_lst)\n",
    "        \n",
    "    vectorized_lst_new = np.asarray(vectorized_lst, dtype=np.float32)\n",
    "    \n",
    "    return vectorized_lst_new"
   ]
  },
  {
   "cell_type": "code",
   "execution_count": 48,
   "id": "2d3e7a80-e445-45b1-88cc-c6d35e448357",
   "metadata": {},
   "outputs": [],
   "source": [
    "vectorized_x_train = vectorizer(x_train, tokens)"
   ]
  },
  {
   "cell_type": "code",
   "execution_count": 49,
   "id": "366fa8ed-ab4f-47a7-875f-d47b95cc4951",
   "metadata": {},
   "outputs": [],
   "source": [
    "\n",
    "vectorized_x_test = vectorizer(x_test, tokens)"
   ]
  },
  {
   "cell_type": "code",
   "execution_count": 50,
   "id": "144d87ca-d339-4a1e-bd33-0177274c88ff",
   "metadata": {},
   "outputs": [
    {
     "data": {
      "text/plain": [
       "array([[0., 0., 0., ..., 0., 0., 0.],\n",
       "       [0., 0., 0., ..., 0., 0., 0.],\n",
       "       [0., 0., 0., ..., 0., 0., 0.],\n",
       "       ...,\n",
       "       [0., 0., 0., ..., 0., 0., 0.],\n",
       "       [0., 0., 0., ..., 0., 0., 0.],\n",
       "       [0., 0., 0., ..., 0., 0., 0.]], dtype=float32)"
      ]
     },
     "execution_count": 50,
     "metadata": {},
     "output_type": "execute_result"
    }
   ],
   "source": [
    "\n",
    "vectorized_x_train"
   ]
  },
  {
   "cell_type": "code",
   "execution_count": 51,
   "id": "100c13b2-5a0a-42c1-8b5f-f6bbc0c0272d",
   "metadata": {},
   "outputs": [
    {
     "data": {
      "text/plain": [
       "4241    1\n",
       "6222    1\n",
       "1191    0\n",
       "4963    0\n",
       "5218    1\n",
       "       ..\n",
       "7690    0\n",
       "1200    0\n",
       "4534    1\n",
       "5522    0\n",
       "4210    0\n",
       "Name: label, Length: 6336, dtype: int64"
      ]
     },
     "execution_count": 51,
     "metadata": {},
     "output_type": "execute_result"
    }
   ],
   "source": [
    "\n",
    "y_train"
   ]
  },
  {
   "cell_type": "code",
   "execution_count": 52,
   "id": "d3174f37-15cb-4245-a207-f8e3b9cf0662",
   "metadata": {},
   "outputs": [
    {
     "data": {
      "text/plain": [
       "array([[0., 0., 0., ..., 0., 0., 0.],\n",
       "       [0., 0., 0., ..., 0., 0., 0.],\n",
       "       [0., 0., 0., ..., 0., 0., 0.],\n",
       "       ...,\n",
       "       [0., 0., 0., ..., 0., 0., 0.],\n",
       "       [0., 0., 0., ..., 0., 0., 0.],\n",
       "       [0., 0., 0., ..., 0., 0., 0.]], dtype=float32)"
      ]
     },
     "execution_count": 52,
     "metadata": {},
     "output_type": "execute_result"
    }
   ],
   "source": [
    "vectorized_x_test"
   ]
  },
  {
   "cell_type": "code",
   "execution_count": 53,
   "id": "fb7e48de-cab1-4003-8b79-13179a2e833f",
   "metadata": {},
   "outputs": [
    {
     "data": {
      "text/plain": [
       "label\n",
       "0    4718\n",
       "1    1618\n",
       "Name: count, dtype: int64"
      ]
     },
     "execution_count": 53,
     "metadata": {},
     "output_type": "execute_result"
    }
   ],
   "source": [
    "y_train.value_counts()"
   ]
  },
  {
   "cell_type": "code",
   "execution_count": 54,
   "id": "6d146255-d726-4ba5-af09-d77d58ee2ef5",
   "metadata": {},
   "outputs": [
    {
     "data": {
      "image/png": "[encoded data removed]",
      "text/plain": [
       "<Figure size 640x480 with 1 Axes>"
      ]
     },
     "metadata": {},
     "output_type": "display_data"
    }
   ],
   "source": [
    "plt.pie(np.array([y_train.value_counts()[0], y_train.value_counts()[1]]), labels=['Positive', 'Negative'])\n",
    "plt.show()"
   ]
  },
  {
   "cell_type": "code",
   "execution_count": 55,
   "id": "258d4c23-2f7d-4d52-a738-68be9c4bca85",
   "metadata": {},
   "outputs": [
    {
     "name": "stdout",
     "output_type": "stream",
     "text": [
      "Requirement already satisfied: imbalanced-learn in c:\\users\\hasidu\\appdata\\local\\programs\\python\\python313\\lib\\site-packages (0.12.4)\n",
      "Requirement already satisfied: numpy>=1.17.3 in c:\\users\\hasidu\\appdata\\local\\programs\\python\\python313\\lib\\site-packages (from imbalanced-learn) (2.1.3)\n",
      "Requirement already satisfied: scipy>=1.5.0 in c:\\users\\hasidu\\appdata\\local\\programs\\python\\python313\\lib\\site-packages (from imbalanced-learn) (1.14.1)\n",
      "Requirement already satisfied: scikit-learn>=1.0.2 in c:\\users\\hasidu\\appdata\\local\\programs\\python\\python313\\lib\\site-packages (from imbalanced-learn) (1.5.2)\n",
      "Requirement already satisfied: joblib>=1.1.1 in c:\\users\\hasidu\\appdata\\local\\programs\\python\\python313\\lib\\site-packages (from imbalanced-learn) (1.4.2)\n",
      "Requirement already satisfied: threadpoolctl>=2.0.0 in c:\\users\\hasidu\\appdata\\local\\programs\\python\\python313\\lib\\site-packages (from imbalanced-learn) (3.5.0)\n"
     ]
    }
   ],
   "source": [
    "!pip install imbalanced-learn"
   ]
  },
  {
   "cell_type": "code",
   "execution_count": 56,
   "id": "837a0bbd-a4e8-4187-bb24-4273960f8062",
   "metadata": {},
   "outputs": [
    {
     "name": "stdout",
     "output_type": "stream",
     "text": [
      "(9436, 1157) (9436,)\n"
     ]
    }
   ],
   "source": [
    "from imblearn.over_sampling import SMOTE\n",
    "smote = SMOTE()\n",
    "vectorized_x_train_smote, y_train_smote = smote.fit_resample(vectorized_x_train, y_train)\n",
    "print(vectorized_x_train_smote.shape, y_train_smote.shape)"
   ]
  },
  {
   "cell_type": "code",
   "execution_count": 57,
   "id": "46e0c616-f158-400a-812a-4de40575d0d5",
   "metadata": {},
   "outputs": [
    {
     "data": {
      "text/plain": [
       "label\n",
       "1    4718\n",
       "0    4718\n",
       "Name: count, dtype: int64"
      ]
     },
     "execution_count": 57,
     "metadata": {},
     "output_type": "execute_result"
    }
   ],
   "source": [
    "y_train_smote.value_counts()"
   ]
  },
  {
   "cell_type": "code",
   "execution_count": 58,
   "id": "ccda11fb-2c30-4390-9968-b8680cf95458",
   "metadata": {},
   "outputs": [
    {
     "data": {
      "image/png": "[encoded data removed]",
      "text/plain": [
       "<Figure size 640x480 with 1 Axes>"
      ]
     },
     "metadata": {},
     "output_type": "display_data"
    }
   ],
   "source": [
    "\n",
    "plt.pie(np.array([y_train_smote.value_counts()[0], y_train_smote.value_counts()[1]]), labels=['Positive', 'Negative'])\n",
    "plt.show()"
   ]
  },
  {
   "cell_type": "code",
   "execution_count": 59,
   "id": "dc07e261-f82a-49e9-a722-0a821ebf091c",
   "metadata": {},
   "outputs": [
    {
     "data": {
      "text/plain": [
       "array([[0., 0., 0., ..., 0., 0., 0.],\n",
       "       [0., 0., 0., ..., 0., 0., 0.],\n",
       "       [0., 0., 0., ..., 0., 0., 0.],\n",
       "       ...,\n",
       "       [0., 0., 0., ..., 0., 0., 0.],\n",
       "       [0., 0., 0., ..., 0., 0., 0.],\n",
       "       [0., 0., 0., ..., 0., 0., 0.]], dtype=float32)"
      ]
     },
     "execution_count": 59,
     "metadata": {},
     "output_type": "execute_result"
    }
   ],
   "source": [
    "vectorized_x_train_smote"
   ]
  },
  {
   "cell_type": "code",
   "execution_count": 60,
   "id": "c0e49389-a600-4e93-ab74-5d17322d2a01",
   "metadata": {},
   "outputs": [
    {
     "data": {
      "text/plain": [
       "6662    0\n",
       "964     1\n",
       "1051    0\n",
       "1163    1\n",
       "6933    0\n",
       "       ..\n",
       "837     0\n",
       "5255    0\n",
       "437     0\n",
       "5448    1\n",
       "2501    0\n",
       "Name: label, Length: 1584, dtype: int64"
      ]
     },
     "execution_count": 60,
     "metadata": {},
     "output_type": "execute_result"
    }
   ],
   "source": [
    "y_test"
   ]
  },
  {
   "cell_type": "code",
   "execution_count": 61,
   "id": "f5b3057a-f080-4ffe-bd1a-24de61d69713",
   "metadata": {},
   "outputs": [
    {
     "data": {
      "text/plain": [
       "array([[0., 0., 0., ..., 0., 0., 0.],\n",
       "       [0., 0., 0., ..., 0., 0., 0.],\n",
       "       [0., 0., 0., ..., 0., 0., 0.],\n",
       "       ...,\n",
       "       [0., 0., 0., ..., 0., 0., 0.],\n",
       "       [0., 0., 0., ..., 0., 0., 0.],\n",
       "       [0., 0., 0., ..., 0., 0., 0.]], dtype=float32)"
      ]
     },
     "execution_count": 61,
     "metadata": {},
     "output_type": "execute_result"
    }
   ],
   "source": [
    "vectorized_x_test"
   ]
  },
  {
   "cell_type": "raw",
   "id": "fe2c125f-9d45-4711-b75f-2338fc36176d",
   "metadata": {},
   "source": [
    "###model training and evalution"
   ]
  },
  {
   "cell_type": "code",
   "execution_count": 62,
   "id": "3d7507a1-9c24-4cd1-9b5a-efdbd2857387",
   "metadata": {},
   "outputs": [],
   "source": [
    "\n",
    "from sklearn.linear_model import LogisticRegression\n",
    "from sklearn.naive_bayes import MultinomialNB\n",
    "from sklearn.tree import DecisionTreeClassifier\n",
    "from sklearn.ensemble import RandomForestClassifier\n",
    "from sklearn.svm import SVC"
   ]
  },
  {
   "cell_type": "code",
   "execution_count": 63,
   "id": "3785a3e0-9994-4271-b831-f135c72a79c3",
   "metadata": {},
   "outputs": [],
   "source": [
    "from sklearn.metrics import accuracy_score, f1_score, precision_score, recall_score\n",
    "\n",
    "def training_scores(y_act, y_pred):\n",
    "    acc = round(accuracy_score(y_act, y_pred), 3)\n",
    "    pr = round(precision_score(y_act, y_pred), 3)\n",
    "    rec = round(recall_score(y_act, y_pred), 3)\n",
    "    f1 = round(f1_score(y_act, y_pred), 3)\n",
    "    print(f'Training Scores:\\n\\tAccuracy = {acc}\\n\\tPrecision = {pr}\\n\\tRecall = {rec}\\n\\tF1-Score = {f1}')\n",
    "    \n",
    "def validation_scores(y_act, y_pred):\n",
    "    acc = round(accuracy_score(y_act, y_pred), 3)\n",
    "    pr = round(precision_score(y_act, y_pred), 3)\n",
    "    rec = round(recall_score(y_act, y_pred), 3)\n",
    "    f1 = round(f1_score(y_act, y_pred), 3)\n",
    "    print(f'Testing Scores:\\n\\tAccuracy = {acc}\\n\\tPrecision = {pr}\\n\\tRecall = {rec}\\n\\tF1-Score = {f1}')"
   ]
  },
  {
   "cell_type": "markdown",
   "id": "a4c7f3c1-7a46-48bf-9f8e-23462024c7a9",
   "metadata": {},
   "source": [
    "###logistic regression"
   ]
  },
  {
   "cell_type": "code",
   "execution_count": 64,
   "id": "3672ff18-5a58-49fb-b373-d7881d395b90",
   "metadata": {},
   "outputs": [
    {
     "name": "stdout",
     "output_type": "stream",
     "text": [
      "Training Scores:\n",
      "\tAccuracy = 0.939\n",
      "\tPrecision = 0.913\n",
      "\tRecall = 0.972\n",
      "\tF1-Score = 0.941\n",
      "Testing Scores:\n",
      "\tAccuracy = 0.849\n",
      "\tPrecision = 0.665\n",
      "\tRecall = 0.836\n",
      "\tF1-Score = 0.74\n"
     ]
    }
   ],
   "source": [
    "\n",
    "lr = LogisticRegression()\n",
    "lr.fit(vectorized_x_train_smote, y_train_smote)\n",
    "\n",
    "y_train_pred = lr.predict(vectorized_x_train_smote)\n",
    "\n",
    "y_test_pred = lr.predict(vectorized_x_test)\n",
    "\n",
    "training_scores(y_train_smote, y_train_pred)\n",
    "\n",
    "validation_scores(y_test, y_test_pred)"
   ]
  },
  {
   "cell_type": "code",
   "execution_count": 65,
   "id": "5b864415-a553-4862-a25d-5dd8491fa32f",
   "metadata": {},
   "outputs": [
    {
     "name": "stdout",
     "output_type": "stream",
     "text": [
      "Training Scores:\n",
      "\tAccuracy = 0.902\n",
      "\tPrecision = 0.864\n",
      "\tRecall = 0.953\n",
      "\tF1-Score = 0.907\n",
      "Testing Scores:\n",
      "\tAccuracy = 0.853\n",
      "\tPrecision = 0.651\n",
      "\tRecall = 0.926\n",
      "\tF1-Score = 0.764\n"
     ]
    }
   ],
   "source": [
    "mnb = MultinomialNB()\n",
    "mnb.fit(vectorized_x_train_smote, y_train_smote)\n",
    "\n",
    "y_train_pred = mnb.predict(vectorized_x_train_smote)\n",
    "\n",
    "y_test_pred = mnb.predict(vectorized_x_test)\n",
    "\n",
    "training_scores(y_train_smote, y_train_pred)\n",
    "\n",
    "validation_scores(y_test, y_test_pred)"
   ]
  },
  {
   "cell_type": "code",
   "execution_count": 66,
   "id": "c0f4cc4a-2e47-4f48-aa7e-bb4a6ac95749",
   "metadata": {},
   "outputs": [
    {
     "name": "stdout",
     "output_type": "stream",
     "text": [
      "Training Scores:\n",
      "\tAccuracy = 0.999\n",
      "\tPrecision = 0.999\n",
      "\tRecall = 0.999\n",
      "\tF1-Score = 0.999\n",
      "Testing Scores:\n",
      "\tAccuracy = 0.806\n",
      "\tPrecision = 0.611\n",
      "\tRecall = 0.684\n",
      "\tF1-Score = 0.645\n"
     ]
    }
   ],
   "source": [
    "dt = DecisionTreeClassifier()\n",
    "\n",
    "dt.fit(vectorized_x_train_smote, y_train_smote)\n",
    "\n",
    "y_train_pred = dt.predict(vectorized_x_train_smote)\n",
    "\n",
    "y_test_pred = dt.predict(vectorized_x_test)\n",
    "\n",
    "training_scores(y_train_smote, y_train_pred)\n",
    "\n",
    "validation_scores(y_test, y_test_pred)"
   ]
  },
  {
   "cell_type": "code",
   "execution_count": 67,
   "id": "92b88c17-658c-4dbc-86dc-6cb960aafd7b",
   "metadata": {},
   "outputs": [
    {
     "name": "stdout",
     "output_type": "stream",
     "text": [
      "Training Scores:\n",
      "\tAccuracy = 0.999\n",
      "\tPrecision = 0.999\n",
      "\tRecall = 1.0\n",
      "\tF1-Score = 0.999\n"
     ]
    }
   ],
   "source": [
    "rf = RandomForestClassifier()\n",
    "\n",
    "rf.fit(vectorized_x_train_smote, y_train_smote)\n",
    "\n",
    "y_train_pred = rf.predict(vectorized_x_train_smote)\n",
    "\n",
    "y_test_pred = rf.predict(vectorized_x_test)\n",
    "\n",
    "training_scores(y_train_smote, y_train_pred)\n"
   ]
  },
  {
   "cell_type": "code",
   "execution_count": 68,
   "id": "6e1465a8-b033-446a-bec0-9bda5741c19a",
   "metadata": {},
   "outputs": [
    {
     "name": "stdout",
     "output_type": "stream",
     "text": [
      "Training Scores:\n",
      "\tAccuracy = 0.973\n",
      "\tPrecision = 0.953\n",
      "\tRecall = 0.994\n",
      "\tF1-Score = 0.973\n",
      "Testing Scores:\n",
      "\tAccuracy = 0.855\n",
      "\tPrecision = 0.694\n",
      "\tRecall = 0.779\n",
      "\tF1-Score = 0.734\n"
     ]
    }
   ],
   "source": [
    "svm = SVC()\n",
    "\n",
    "svm.fit(vectorized_x_train_smote, y_train_smote)\n",
    "\n",
    "y_train_pred = svm.predict(vectorized_x_train_smote)\n",
    "\n",
    "y_test_pred = svm.predict(vectorized_x_test)\n",
    "\n",
    "training_scores(y_train_smote, y_train_pred)\n",
    "\n",
    "validation_scores(y_test, y_test_pred)"
   ]
  },
  {
   "cell_type": "code",
   "execution_count": 69,
   "id": "3f6f412e-3ed1-41df-a044-80898cbea4be",
   "metadata": {},
   "outputs": [],
   "source": [
    "import pickle\n",
    "\n",
    "with open('../static/model/model.pickle', 'wb') as file:\n",
    "    pickle.dump(lr, file)"
   ]
  },
  {
   "cell_type": "markdown",
   "id": "8a726c29-cfce-4b96-a205-09caa954479f",
   "metadata": {},
   "source": []
  },
  {
   "cell_type": "code",
   "execution_count": null,
   "id": "a623f18d-a72a-48c0-9c7c-65b8cf17e081",
   "metadata": {},
   "outputs": [],
   "source": []
  }
 ],
 "metadata": {
  "kernelspec": {
   "display_name": "Python 3 (ipykernel)",
   "language": "python",
   "name": "python3"
  },
  "language_info": {
   "codemirror_mode": {
    "name": "ipython",
    "version": 3
   },
   "file_extension": ".py",
   "mimetype": "text/x-python",
   "name": "python",
   "nbconvert_exporter": "python",
   "pygments_lexer": "ipython3",
   "version": "3.13.0"
  }
 },
 "nbformat": 4,
 "nbformat_minor": 5
}
